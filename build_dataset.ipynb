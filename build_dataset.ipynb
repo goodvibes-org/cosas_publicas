{
 "cells": [
  {
   "cell_type": "code",
   "execution_count": 3,
   "metadata": {},
   "outputs": [],
   "source": [
    "import pandas as pd\n",
    "import numpy as np\n",
    "import json"
   ]
  },
  {
   "cell_type": "code",
   "execution_count": 4,
   "metadata": {},
   "outputs": [],
   "source": [
    "df = pd.read_csv(\"test_reconocimiento.csv\")"
   ]
  },
  {
   "cell_type": "code",
   "execution_count": 19,
   "metadata": {},
   "outputs": [],
   "source": [
    "all_group = {}\n",
    "grps = []\n",
    "for group in df.groupby(by = \"Key word 1\").__iter__():\n",
    "\tlta = [node.lower() if type(node) == str and node.lower() != group[0].lower() else node for node in group[1].to_numpy().flatten()[1:-1].tolist() ]\n",
    "\tall_group[group[0].lower()] = lta"
   ]
  },
  {
   "cell_type": "code",
   "execution_count": 21,
   "metadata": {},
   "outputs": [],
   "source": [
    "with open(\"dataset_juan.json\", \"w\") as file:\n",
    "\tjson.dump(all_group, file)"
   ]
  }
 ],
 "metadata": {
  "interpreter": {
   "hash": "691ba0a640accbde321ebd19d675ec83c236a7979242fc26d3c0f726afd0f178"
  },
  "kernelspec": {
   "display_name": "Python 3.9.12 ('base')",
   "language": "python",
   "name": "python3"
  },
  "language_info": {
   "codemirror_mode": {
    "name": "ipython",
    "version": 3
   },
   "file_extension": ".py",
   "mimetype": "text/x-python",
   "name": "python",
   "nbconvert_exporter": "python",
   "pygments_lexer": "ipython3",
   "version": "3.9.12"
  },
  "orig_nbformat": 4
 },
 "nbformat": 4,
 "nbformat_minor": 2
}
